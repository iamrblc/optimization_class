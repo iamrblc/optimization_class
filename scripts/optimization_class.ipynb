{
 "cells": [
  {
   "cell_type": "markdown",
   "metadata": {},
   "source": [
    "# INTRODUCTION TO OPTIMIZATION "
   ]
  },
  {
   "cell_type": "markdown",
   "metadata": {},
   "source": [
    "## Picking the right language\n",
    "Consider a simple but time intensive problem: summing up the first billion numbers."
   ]
  },
  {
   "cell_type": "code",
   "execution_count": 1,
   "metadata": {},
   "outputs": [],
   "source": [
    "import time\n",
    "N = 1000_000_000"
   ]
  },
  {
   "cell_type": "markdown",
   "metadata": {},
   "source": [
    "Let's try to add them up \"manually\". "
   ]
  },
  {
   "cell_type": "code",
   "execution_count": null,
   "metadata": {},
   "outputs": [
    {
     "name": "stdout",
     "output_type": "stream",
     "text": [
      "Loop total: 499999999500000000\n",
      "Loop time: 46.79621720314026 s\n"
     ]
    }
   ],
   "source": [
    "start = time.time()\n",
    "\n",
    "total_loop = 0\n",
    "for i in range(N):\n",
    "    total_loop += i\n",
    "\n",
    "print(f\"Loop total: {total_loop}\")\n",
    "print(f\"Loop time: {time.time() - start} s\")"
   ]
  },
  {
   "cell_type": "markdown",
   "metadata": {},
   "source": [
    "Let's now use the built in sum() function. "
   ]
  },
  {
   "cell_type": "code",
   "execution_count": 6,
   "metadata": {},
   "outputs": [
    {
     "name": "stdout",
     "output_type": "stream",
     "text": [
      "Sum total: 499999999500000000\n",
      "Sum time: 7.738202095031738 s\n"
     ]
    }
   ],
   "source": [
    "start = time.time()\n",
    "total_sum = sum(range(N))\n",
    "print(f\"Sum total: {total_sum}\")\n",
    "print(f\"Sum time: {time.time() - start} s\")"
   ]
  },
  {
   "cell_type": "markdown",
   "metadata": {},
   "source": [
    "<strong> That's impressive but why is sum() faster than the loop?</strong>\n",
    "<p>\n"
   ]
  },
  {
   "cell_type": "code",
   "execution_count": 8,
   "metadata": {},
   "outputs": [
    {
     "name": "stdout",
     "output_type": "stream",
     "text": [
      "Sum total: 499999999500000000\n",
      "Sum time: 0.00015211105346679688 s\n"
     ]
    }
   ],
   "source": [
    "start = time.time()\n",
    "\n",
    "n = N - 1\n",
    "total_sum = n * (1 + n) // 2\n",
    "print(f\"Sum total: {total_sum}\")\n",
    "print(f\"Sum time: {time.time() - start} s\")"
   ]
  }
 ],
 "metadata": {
  "kernelspec": {
   "display_name": ".venv",
   "language": "python",
   "name": "python3"
  },
  "language_info": {
   "codemirror_mode": {
    "name": "ipython",
    "version": 3
   },
   "file_extension": ".py",
   "mimetype": "text/x-python",
   "name": "python",
   "nbconvert_exporter": "python",
   "pygments_lexer": "ipython3",
   "version": "3.11.11"
  }
 },
 "nbformat": 4,
 "nbformat_minor": 2
}
